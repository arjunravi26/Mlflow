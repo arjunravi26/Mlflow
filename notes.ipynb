{
 "cells": [
  {
   "cell_type": "markdown",
   "metadata": {},
   "source": [
    "## **Mlflow**"
   ]
  },
  {
   "cell_type": "markdown",
   "metadata": {},
   "source": [
    "MLflow is an open-source platform designed to manage the entire machine learning lifecycle. It provides solutions for experiment tracking, reproducibility, and deployment."
   ]
  },
  {
   "cell_type": "markdown",
   "metadata": {},
   "source": [
    "**Core Components of MLflow**"
   ]
  },
  {
   "cell_type": "markdown",
   "metadata": {},
   "source": [
    "1. MLflow Tracking:\n",
    "\n",
    "* Tracks experiments, metrics, parameters, and artifacts.\n",
    "* Allows comparison of different model runs.\n",
    "* Stores results locally or in a central tracking server.\n",
    "\n",
    "2. MLflow Projects:\n",
    "\n",
    "* Standardizes the way to organize machine learning code.\n",
    "* Uses a directory structure and MLproject file for reproducibility.\n",
    "\n",
    "3. MLflow Models:\n",
    "\n",
    "* A standardized format for packaging machine learning models.\n",
    "* Enables deployment across multiple platforms such as Docker, REST API, or cloud environments.\n",
    "\n",
    "4. MLflow Registry:\n",
    "\n",
    "* A model repository to manage model lifecycle stages: staging, production, and archived.\n",
    "* Provides model versioning and annotations."
   ]
  },
  {
   "cell_type": "markdown",
   "metadata": {},
   "source": [
    "**Advantages of MLflow**\n",
    "* Centralized tracking of experiments.\n",
    "* Model reproducibility and deployment.\n",
    "* Framework-agnostic: Works with TensorFlow, PyTorch, Scikit-learn, and others.\n",
    "* Simplifies collaboration by sharing experiment data."
   ]
  },
  {
   "cell_type": "markdown",
   "metadata": {},
   "source": [
    "## **DagsHub**"
   ]
  },
  {
   "cell_type": "markdown",
   "metadata": {},
   "source": [
    "DagsHub is a platform for versioning, collaboration, and tracking in machine learning. It integrates with Git for version control, DVC (Data Version Control) for data tracking, and MLflow for experiment tracking."
   ]
  },
  {
   "cell_type": "markdown",
   "metadata": {},
   "source": [
    "**Key Features of DagsHub**\n",
    "1. Version Control for Code and Data:\n",
    "\n",
    "* Built on Git and DVC for tracking code, datasets, and machine learning models.\n",
    "* Enables branching, merging, and collaboration similar to GitHub.\n",
    "\n",
    "2. Experiment Tracking:\n",
    "\n",
    "* Direct integration with MLflow for tracking and comparing experiments.\n",
    "\n",
    "3. Visualization and Insights:\n",
    "\n",
    "* Visualize metrics, parameters, and data pipelines directly from the UI.\n",
    "\n",
    "4. Collaboration:\n",
    "\n",
    "* Share experiments, datasets, and pipelines with teams.\n",
    "* Comment and discuss results and changes."
   ]
  },
  {
   "cell_type": "markdown",
   "metadata": {},
   "source": [
    "**Advantages of DagsHub**\n",
    "* Centralized platform for machine learning projects.\n",
    "* Seamless integration with Git, DVC, and MLflow.\n",
    "* Facilitates reproducibility and collaboration.\n",
    "* Reduces the overhead of setting up individual tools."
   ]
  },
  {
   "cell_type": "markdown",
   "metadata": {},
   "source": [
    "## How Mlflow and DagsHub related?"
   ]
  },
  {
   "cell_type": "markdown",
   "metadata": {},
   "source": [
    "* DagsHub uses MLflow’s tracking capabilities, making it easy to visualize and compare experiment runs.\n",
    "* It serves as a central repository for MLflow logs, enabling cloud-based access and collaboration.\n",
    "* While MLflow focuses on the technical tracking of models, DagsHub enhances collaboration by combining MLflow with Git, DVC, and team tools."
   ]
  }
 ],
 "metadata": {
  "language_info": {
   "name": "python"
  }
 },
 "nbformat": 4,
 "nbformat_minor": 2
}
